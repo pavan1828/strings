{
 "cells": [
  {
   "cell_type": "markdown",
   "id": "348761e3",
   "metadata": {},
   "source": [
    "# Ascii values"
   ]
  },
  {
   "cell_type": "markdown",
   "id": "dfe9e216",
   "metadata": {},
   "source": [
    "**ASCII stands for American Standard Code for Information Interchange.**"
   ]
  },
  {
   "cell_type": "markdown",
   "id": "37c70aab",
   "metadata": {},
   "source": [
    "It is a numeric value given to different characters and symbols, for computers to store and manipulate."
   ]
  },
  {
   "cell_type": "code",
   "execution_count": 1,
   "id": "0f08e838",
   "metadata": {},
   "outputs": [
    {
     "data": {
      "text/plain": [
       "97"
      ]
     },
     "execution_count": 1,
     "metadata": {},
     "output_type": "execute_result"
    }
   ],
   "source": [
    "ord('a')"
   ]
  },
  {
   "cell_type": "code",
   "execution_count": 2,
   "id": "2690b23a",
   "metadata": {},
   "outputs": [
    {
     "data": {
      "text/plain": [
       "65"
      ]
     },
     "execution_count": 2,
     "metadata": {},
     "output_type": "execute_result"
    }
   ],
   "source": [
    "ord('A')"
   ]
  },
  {
   "cell_type": "code",
   "execution_count": 3,
   "id": "9d9645ed",
   "metadata": {},
   "outputs": [
    {
     "data": {
      "text/plain": [
       "86"
      ]
     },
     "execution_count": 3,
     "metadata": {},
     "output_type": "execute_result"
    }
   ],
   "source": [
    "ord(\"V\")"
   ]
  },
  {
   "cell_type": "code",
   "execution_count": 10,
   "id": "f6aa7974",
   "metadata": {},
   "outputs": [
    {
     "data": {
      "text/plain": [
       "'Z'"
      ]
     },
     "execution_count": 10,
     "metadata": {},
     "output_type": "execute_result"
    }
   ],
   "source": [
    "chr(90)"
   ]
  },
  {
   "cell_type": "code",
   "execution_count": 12,
   "id": "cc12b2b1",
   "metadata": {},
   "outputs": [
    {
     "data": {
      "text/plain": [
       "'b'"
      ]
     },
     "execution_count": 12,
     "metadata": {},
     "output_type": "execute_result"
    }
   ],
   "source": [
    "chr(98)"
   ]
  },
  {
   "cell_type": "code",
   "execution_count": 22,
   "id": "fc2c0e29",
   "metadata": {},
   "outputs": [
    {
     "name": "stdout",
     "output_type": "stream",
     "text": [
      "['__add__', '__class__', '__contains__', '__delattr__', '__dir__', '__doc__', '__eq__', '__format__', '__ge__', '__getattribute__', '__getitem__', '__getnewargs__', '__gt__', '__hash__', '__init__', '__init_subclass__', '__iter__', '__le__', '__len__', '__lt__', '__mod__', '__mul__', '__ne__', '__new__', '__reduce__', '__reduce_ex__', '__repr__', '__rmod__', '__rmul__', '__setattr__', '__sizeof__', '__str__', '__subclasshook__', 'capitalize', 'casefold', 'center', 'count', 'encode', 'endswith', 'expandtabs', 'find', 'format', 'format_map', 'index', 'isalnum', 'isalpha', 'isascii', 'isdecimal', 'isdigit', 'isidentifier', 'islower', 'isnumeric', 'isprintable', 'isspace', 'istitle', 'isupper', 'join', 'ljust', 'lower', 'lstrip', 'maketrans', 'partition', 'removeprefix', 'removesuffix', 'replace', 'rfind', 'rindex', 'rjust', 'rpartition', 'rsplit', 'rstrip', 'split', 'splitlines', 'startswith', 'strip', 'swapcase', 'title', 'translate', 'upper', 'zfill']\n"
     ]
    }
   ],
   "source": [
    "print(dir('x'))"
   ]
  },
  {
   "cell_type": "markdown",
   "id": "2a5b7c18",
   "metadata": {},
   "source": [
    "# STRING METHODS"
   ]
  },
  {
   "cell_type": "markdown",
   "id": "49aff806",
   "metadata": {},
   "source": [
    "**lower()**"
   ]
  },
  {
   "cell_type": "code",
   "execution_count": 13,
   "id": "a777173f",
   "metadata": {},
   "outputs": [
    {
     "data": {
      "text/plain": [
       "'innomatics'"
      ]
     },
     "execution_count": 13,
     "metadata": {},
     "output_type": "execute_result"
    }
   ],
   "source": [
    "a=\"INNOMATICS\"\n",
    "a.lower()"
   ]
  },
  {
   "cell_type": "code",
   "execution_count": 14,
   "id": "ca516da4",
   "metadata": {},
   "outputs": [
    {
     "data": {
      "text/plain": [
       "'pavan'"
      ]
     },
     "execution_count": 14,
     "metadata": {},
     "output_type": "execute_result"
    }
   ],
   "source": [
    "b=\"PAvaN\"\n",
    "b.lower()"
   ]
  },
  {
   "cell_type": "code",
   "execution_count": 15,
   "id": "f21bc506",
   "metadata": {},
   "outputs": [
    {
     "name": "stdout",
     "output_type": "stream",
     "text": [
      "The only way to do great work is to love what you do.\n"
     ]
    }
   ],
   "source": [
    "x=\"The only way to do great work is to love what you do.\"\n",
    "print(x)"
   ]
  },
  {
   "cell_type": "markdown",
   "id": "c70c2331",
   "metadata": {},
   "source": [
    "# upper()"
   ]
  },
  {
   "cell_type": "markdown",
   "id": "4a90b496",
   "metadata": {},
   "source": [
    "*  method used to convert all the characters in a given string to uppercase (capital letters)"
   ]
  },
  {
   "cell_type": "code",
   "execution_count": 16,
   "id": "6681025b",
   "metadata": {},
   "outputs": [
    {
     "data": {
      "text/plain": [
       "'THE ONLY WAY TO DO GREAT WORK IS TO LOVE WHAT YOU DO.'"
      ]
     },
     "execution_count": 16,
     "metadata": {},
     "output_type": "execute_result"
    }
   ],
   "source": [
    "x.upper()"
   ]
  },
  {
   "cell_type": "code",
   "execution_count": 17,
   "id": "6f2fbff3",
   "metadata": {},
   "outputs": [
    {
     "data": {
      "text/plain": [
       "2426818901808"
      ]
     },
     "execution_count": 17,
     "metadata": {},
     "output_type": "execute_result"
    }
   ],
   "source": [
    "id(x)"
   ]
  },
  {
   "cell_type": "code",
   "execution_count": 19,
   "id": "6a86ae7d",
   "metadata": {},
   "outputs": [
    {
     "data": {
      "text/plain": [
       "2426818903152"
      ]
     },
     "execution_count": 19,
     "metadata": {},
     "output_type": "execute_result"
    }
   ],
   "source": [
    "ab=x.upper()\n",
    "id(ab)"
   ]
  },
  {
   "cell_type": "markdown",
   "id": "af5f91c6",
   "metadata": {},
   "source": [
    "* Strings are **immutable,** the resulting strings from string methods have a new memory location\n",
    "* In order to use these strings, we need reassign it to a var"
   ]
  },
  {
   "cell_type": "code",
   "execution_count": 20,
   "id": "357891ee",
   "metadata": {},
   "outputs": [
    {
     "name": "stdout",
     "output_type": "stream",
     "text": [
      "[1, 2, 3]\n"
     ]
    }
   ],
   "source": [
    "l=[1,2,3]\n",
    "print(l)"
   ]
  },
  {
   "cell_type": "code",
   "execution_count": 21,
   "id": "fccbcbff",
   "metadata": {},
   "outputs": [
    {
     "data": {
      "text/plain": [
       "2426818145792"
      ]
     },
     "execution_count": 21,
     "metadata": {},
     "output_type": "execute_result"
    }
   ],
   "source": [
    "id(l)"
   ]
  },
  {
   "cell_type": "markdown",
   "id": "87133245",
   "metadata": {},
   "source": [
    "# capitalize()"
   ]
  },
  {
   "cell_type": "markdown",
   "id": "d10250ea",
   "metadata": {},
   "source": [
    "* The capitalize() method is a string method used in programming to convert the first character of a string to uppercase (capital letter) "
   ]
  },
  {
   "cell_type": "code",
   "execution_count": 23,
   "id": "3890bc96",
   "metadata": {},
   "outputs": [
    {
     "data": {
      "text/plain": [
       "\"hard work beats talent when talent doesn't work hard.\""
      ]
     },
     "execution_count": 23,
     "metadata": {},
     "output_type": "execute_result"
    }
   ],
   "source": [
    "bz=\"hard work beats talent when talent doesn't work hard.\" \n",
    "bz"
   ]
  },
  {
   "cell_type": "code",
   "execution_count": 24,
   "id": "ef59f61c",
   "metadata": {},
   "outputs": [
    {
     "data": {
      "text/plain": [
       "\"Hard work beats talent when talent doesn't work hard.\""
      ]
     },
     "execution_count": 24,
     "metadata": {},
     "output_type": "execute_result"
    }
   ],
   "source": [
    "bz.capitalize()"
   ]
  },
  {
   "cell_type": "markdown",
   "id": "3ba54702",
   "metadata": {},
   "source": [
    "# title()"
   ]
  },
  {
   "cell_type": "markdown",
   "id": "e415afd0",
   "metadata": {},
   "source": [
    "* the first alphabet of word converts into capital"
   ]
  },
  {
   "cell_type": "code",
   "execution_count": 25,
   "id": "3d2560fe",
   "metadata": {},
   "outputs": [
    {
     "data": {
      "text/plain": [
       "\"Hard Work Beats Talent When Talent Doesn'T Work Hard.\""
      ]
     },
     "execution_count": 25,
     "metadata": {},
     "output_type": "execute_result"
    }
   ],
   "source": [
    "bz.title()"
   ]
  },
  {
   "cell_type": "markdown",
   "id": "6150b177",
   "metadata": {},
   "source": [
    "# swapcase()"
   ]
  },
  {
   "cell_type": "markdown",
   "id": "a9494583",
   "metadata": {},
   "source": [
    "* The swapcase() functions returns a string where all the upper case letters are lower case and vice versa.\n"
   ]
  },
  {
   "cell_type": "code",
   "execution_count": 26,
   "id": "d65c29ba",
   "metadata": {},
   "outputs": [
    {
     "data": {
      "text/plain": [
       "\"hARD wORK bEATS tALENT wHEN tALENT dOESN't wORK hARD.\""
      ]
     },
     "execution_count": 26,
     "metadata": {},
     "output_type": "execute_result"
    }
   ],
   "source": [
    "ha=\"Hard Work Beats Talent When Talent Doesn'T Work Hard.\"\n",
    "ha.swapcase()"
   ]
  },
  {
   "cell_type": "markdown",
   "id": "b51bdbfa",
   "metadata": {},
   "source": [
    "# casefold()"
   ]
  },
  {
   "cell_type": "markdown",
   "id": "aeb27b12",
   "metadata": {},
   "source": [
    "* This method changes string lower case to more lower case , special characters like Germen character (ß) is already in lower case so, the lower method doesn’t make the conversion.\n",
    "* but the casefold() method will convert ß to its equivalent character ss"
   ]
  },
  {
   "cell_type": "code",
   "execution_count": 30,
   "id": "6ae4dbd2",
   "metadata": {},
   "outputs": [
    {
     "data": {
      "text/plain": [
       "'sjuhdsscnjdgin'"
      ]
     },
     "execution_count": 30,
     "metadata": {},
     "output_type": "execute_result"
    }
   ],
   "source": [
    "x='SjuhdßcnjdGIN' \n",
    "x.casefold()"
   ]
  },
  {
   "cell_type": "code",
   "execution_count": null,
   "id": "f27077ab",
   "metadata": {},
   "outputs": [],
   "source": []
  }
 ],
 "metadata": {
  "kernelspec": {
   "display_name": "Python 3 (ipykernel)",
   "language": "python",
   "name": "python3"
  },
  "language_info": {
   "codemirror_mode": {
    "name": "ipython",
    "version": 3
   },
   "file_extension": ".py",
   "mimetype": "text/x-python",
   "name": "python",
   "nbconvert_exporter": "python",
   "pygments_lexer": "ipython3",
   "version": "3.9.13"
  }
 },
 "nbformat": 4,
 "nbformat_minor": 5
}
